{
 "cells": [
  {
   "cell_type": "code",
   "execution_count": 1,
   "id": "46464198-6d4a-428b-b4ba-d7e091e39842",
   "metadata": {},
   "outputs": [],
   "source": [
    "from docx import Document\n",
    "from docx.oxml.ns import nsdecls\n",
    "from docx.oxml import parse_xml\n",
    "from docx.shared import RGBColor\n",
    "from docx.shared import Cm\n",
    "from docx.enum.table import WD_ROW_HEIGHT_RULE\n",
    "import pandas as pd\n",
    "import os"
   ]
  },
  {
   "cell_type": "code",
   "execution_count": 2,
   "id": "f3cab2cc-23d7-4750-a05c-089241fccab3",
   "metadata": {},
   "outputs": [],
   "source": [
    "def drop_unnamed_cols(df):\n",
    "    \n",
    "    unnamed_cols = [col for col in df.columns\n",
    "                   if col.startswith('Unnamed:')]\n",
    "    \n",
    "    df.drop(unnamed_cols, axis=1, inplace=True)"
   ]
  },
  {
   "cell_type": "code",
   "execution_count": 3,
   "id": "648f5c8e-0c39-4f7b-814f-03e08b3bc08d",
   "metadata": {},
   "outputs": [],
   "source": [
    "def read_data(sheetname, file, \n",
    "              path = 'original_data/consulta_publica/'):\n",
    "    \n",
    "    fpath = os.path.join(path, file)\n",
    "    \n",
    "    df = pd.read_excel(fpath, sheet_name = sheetname)\n",
    "    drop_unnamed_cols(df)\n",
    "    \n",
    "    return df"
   ]
  },
  {
   "cell_type": "code",
   "execution_count": 4,
   "id": "f0f9ce46-adb2-46c1-ae1e-f18c19274c66",
   "metadata": {},
   "outputs": [],
   "source": [
    "def orange_cell(cell):\n",
    "    \n",
    "    # Set a cell background (shading) color to RGB D9D9D9.\n",
    "    shading_elm = parse_xml(r'<w:shd {} w:fill=\"#FF7F50\"/>'.format(nsdecls('w')))\n",
    "    cell._tc.get_or_add_tcPr().append(shading_elm)"
   ]
  },
  {
   "cell_type": "code",
   "execution_count": 5,
   "id": "5a43c110-d599-418a-8d7f-b06553902550",
   "metadata": {},
   "outputs": [],
   "source": [
    "def write_white(cell, text):\n",
    "    \n",
    "    if text is None:\n",
    "        text = ''\n",
    "    if type(text) is not str:\n",
    "        text = str(text)\n",
    "    \n",
    "    text = cell.paragraphs[0].add_run(text)\n",
    "    white = RGBColor(255,255,255)\n",
    "    text.font.color.rgb = white"
   ]
  },
  {
   "cell_type": "code",
   "execution_count": 6,
   "id": "092d10cb-de39-4927-a7cf-669690e11cfe",
   "metadata": {},
   "outputs": [],
   "source": [
    "def white_on_orange(cell, text):\n",
    "    \n",
    "    orange_cell(cell)\n",
    "    write_white(cell, text)"
   ]
  },
  {
   "cell_type": "code",
   "execution_count": 7,
   "id": "85a15c1a-c5f6-4d5c-aa3a-c03c380651e8",
   "metadata": {},
   "outputs": [],
   "source": [
    "def white_row(table, row_num, max_cell):\n",
    "    \n",
    "    merge_cells(table, row_num, max_cell)\n",
    "    row = table.rows[row_num]\n",
    "    row.height_rule = WD_ROW_HEIGHT_RULE.EXACTLY\n",
    "    row.height = Cm(.3)"
   ]
  },
  {
   "cell_type": "code",
   "execution_count": 8,
   "id": "dddccf1c-b0c7-4ca1-84b9-301bd91c1534",
   "metadata": {},
   "outputs": [],
   "source": [
    "def add_table(doc, num_rows, num_cols):\n",
    "    \n",
    "    table = doc.add_table(num_rows,num_cols)\n",
    "    table.style = 'Table Grid'\n",
    "    \n",
    "    return table"
   ]
  },
  {
   "cell_type": "code",
   "execution_count": 9,
   "id": "d0633586-f923-417a-9c31-2350bf38ed21",
   "metadata": {},
   "outputs": [],
   "source": [
    "def merge_cells(table, row, max_cell, start_cell=0):\n",
    "    \n",
    "    merge_anchor = table.cell(row, start_cell)\n",
    "    for i in range(start_cell+1, max_cell+1):\n",
    "        merge_anchor.merge(table.cell(row, i))\n",
    "    \n",
    "    return merge_anchor"
   ]
  },
  {
   "cell_type": "code",
   "execution_count": 10,
   "id": "e5e11e58-2731-4083-903d-092e3d574941",
   "metadata": {},
   "outputs": [],
   "source": [
    "def write_cell(table, row, col, text):\n",
    "    \n",
    "    if text is None:\n",
    "        text = ''\n",
    "    \n",
    "    if type(text) is not str:\n",
    "        text = str(text)\n",
    "    \n",
    "    table.cell(row, col).text = text"
   ]
  },
  {
   "cell_type": "code",
   "execution_count": 11,
   "id": "373bfca6-95ea-4af5-897d-a160f888845c",
   "metadata": {},
   "outputs": [],
   "source": [
    "def header(doc, first_row):\n",
    "        \n",
    "    table = add_table(doc, 2,2)\n",
    "    white_on_orange(table.cell(0,0), first_row['Nº Meta'])\n",
    "    write_cell(table, 0, 1, first_row['Descrição da Meta Municipal 2030'])\n",
    "    white_row(table, 1, 1)"
   ]
  },
  {
   "cell_type": "code",
   "execution_count": 12,
   "id": "d5fba3f2-bf2b-4d56-ab97-4e13f80505ad",
   "metadata": {},
   "outputs": [],
   "source": [
    "def vinculacao_pdm(doc, df):\n",
    "    \n",
    "    if len(df)<1:\n",
    "        return\n",
    "    \n",
    "    if df.iloc[0]['Meta PdM (Número)']=='sem vinculação':\n",
    "        return\n",
    "    \n",
    "    #uma para cada vinculo, uma para header e outra para espaço\n",
    "    num_rows = len(df)+2\n",
    "    table = add_table(doc, num_rows, 2)\n",
    "    \n",
    "    header = merge_cells(table, 0, 1)\n",
    "    white_on_orange(header, 'Vinculação com o Programa de Metas 2021-2024')\n",
    "    \n",
    "    for i, row in df.iterrows():\n",
    "        \n",
    "        write_cell(table, i+1,0, row['Meta PdM (Número)'])\n",
    "        write_cell(table, i+1,1, row['Meta PdM (Descrição)'])\n",
    "\n",
    "    white_row(table, num_rows-1, 1)"
   ]
  },
  {
   "cell_type": "code",
   "execution_count": 13,
   "id": "473c3d23-3d09-4785-a6e1-39f4cd15f8e0",
   "metadata": {},
   "outputs": [],
   "source": [
    "def vinculacao_ppa(doc, df):\n",
    "    \n",
    "    #uma para cada vinculo, uma para header e outra para espaço\n",
    "    num_rows = len(df)+2\n",
    "    table = add_table(doc, num_rows, 4)\n",
    "    \n",
    "    header = merge_cells(table, 0, 3)\n",
    "    white_on_orange(header, 'Vinculação com o Plano Plurianual 2022-2025')\n",
    "    \n",
    "    for i, row in df.iterrows():\n",
    "        \n",
    "        programa = merge_cells(table, i+1, 1)\n",
    "        write_cell(table, i+1,0, row['Programa PPA (Número)'])\n",
    "        write_cell(table, i+1,2, row['Programa PPA (Descrição)'])\n",
    "        write_cell(table, i+1,3, row['Objetivo PPA'])\n",
    "    \n",
    "    white_row(table, num_rows-1, 1)"
   ]
  },
  {
   "cell_type": "code",
   "execution_count": 14,
   "id": "fa75306c-0af5-464f-8afc-44719d9c8785",
   "metadata": {},
   "outputs": [],
   "source": [
    "def indicadores_priorizados(doc, df):\n",
    "    \n",
    "    if len(df) < 1:\n",
    "        return\n",
    "    #uma para cada item, duas para header e outra para espaço\n",
    "    num_rows = len(df)+3\n",
    "    table = add_table(doc, num_rows, 4)\n",
    "    \n",
    "    header = merge_cells(table, 0, 3)\n",
    "    white_on_orange(header, 'Indicadores da Agenda Municipal 2030 priorizados')\n",
    "    \n",
    "    white_on_orange(table.cell(1,0), 'Número')\n",
    "    white_on_orange(table.cell(1,1), 'Redação')\n",
    "    white_on_orange(table.cell(1,2), 'Meta 2030')\n",
    "    white_on_orange(table.cell(1,3), 'Previsão 2021-2024')\n",
    "\n",
    "    \n",
    "    for i, row in df.iterrows():\n",
    "        \n",
    "        row_num = i+2\n",
    "        write_cell(table, row_num,0, row['Nº do Indicador'])\n",
    "        write_cell(table, row_num,1, row['Nome do Indicador'])\n",
    "        write_cell(table, row_num,2, row['Meta numérica 2030 para o Indicador'])\n",
    "        write_cell(table, row_num,3, row['Previsão de desempenho 2024 para o Indicador\\n(TEXTO A SER VALIDADO)'])\n",
    "\n",
    "    white_row(table, num_rows-1, 3)"
   ]
  },
  {
   "cell_type": "code",
   "execution_count": 15,
   "id": "cb9ff108-fce3-4967-aaba-041fc7380ecd",
   "metadata": {},
   "outputs": [],
   "source": [
    "def acoes(doc, df):\n",
    "\n",
    "    #uma para cada item, duas para header\n",
    "    num_rows = len(df)+1\n",
    "    table = add_table(doc, num_rows, 4)\n",
    "    \n",
    "    header = merge_cells(table, 0, 1)\n",
    "    white_on_orange(header, 'Ação')\n",
    "    white_on_orange(table.cell(0,2), 'Orgão Responsável')\n",
    "    white_on_orange(table.cell(0,3), 'Marco de Atingimento')\n",
    "    \n",
    "    for i, row in df.iterrows():\n",
    "        \n",
    "        row_num = i+1\n",
    "        \n",
    "        write_cell(table, row_num,0, row['Letra da Ação'])\n",
    "        write_cell(table, row_num,1, row['Descrição da Ação\\n(TEXTO A SER VALIDADO)'])\n",
    "        write_cell(table, row_num,2, row['Órgão Responsável'])\n",
    "        write_cell(table, row_num,3, row['marco'])\n"
   ]
  },
  {
   "cell_type": "code",
   "execution_count": 16,
   "id": "aed9d7e0-9ed2-422f-baba-0c878f1a1e90",
   "metadata": {},
   "outputs": [],
   "source": [
    "def filtrar_df(df, meta):\n",
    "    \n",
    "    if 'Meta 2030 (Número)' in df:\n",
    "        col_meta = 'Meta 2030 (Número)'\n",
    "    else:\n",
    "        col_meta = 'Nº Meta'\n",
    "    \n",
    "    filtro = df[col_meta] == meta\n",
    "    \n",
    "    df = df[filtro].copy().reset_index(drop=True)\n",
    "    \n",
    "    return df"
   ]
  },
  {
   "cell_type": "code",
   "execution_count": 17,
   "id": "8375a6ba-9d03-4fda-a5c2-c16d622048dc",
   "metadata": {},
   "outputs": [],
   "source": [
    "def open_sheet(sheet_name, meta, file = None):\n",
    "    \n",
    "    sheets = {'pdm' : 'PdM',\n",
    "          'ppa' : 'PPA',\n",
    "          'indicadores' : 'Indicadores_priorizados',\n",
    "          'acoes' : 'Sheet1'}\n",
    "    \n",
    "    df = read_data(sheets[sheet_name], file=file)\n",
    "    \n",
    "    filtered = filtrar_df(df, meta)\n",
    "    \n",
    "    return filtered"
   ]
  },
  {
   "cell_type": "code",
   "execution_count": 18,
   "id": "af9f2b5a-d667-4a38-bb0a-6d1aec041f1a",
   "metadata": {},
   "outputs": [],
   "source": [
    "doc = Document()"
   ]
  },
  {
   "cell_type": "code",
   "execution_count": 19,
   "id": "a14d31fe-042c-4e15-979b-97904abdbc6b",
   "metadata": {},
   "outputs": [],
   "source": [
    "def sort_meta(metas):\n",
    "    result = []\n",
    "    \n",
    "    for meta in metas:\n",
    "        try:\n",
    "            result.append(float(meta))\n",
    "        except ValueError:\n",
    "            inteiro, letra = meta.split('.')\n",
    "            letra = letra.lower()\n",
    "            inteiro = int(inteiro)\n",
    "            letra_num = ord(letra)\n",
    "            \n",
    "            result.append(float(f'{inteiro}.{9}{letra_num}'))\n",
    "            \n",
    "    return pd.Series(result)"
   ]
  },
  {
   "cell_type": "code",
   "execution_count": 20,
   "id": "133f12bb-5e6c-47d1-aee6-4e3967fb5b21",
   "metadata": {},
   "outputs": [],
   "source": [
    "def sort_acao(acoes):\n",
    "    result = []\n",
    "    \n",
    "    for acao in acoes:\n",
    "        letra = acao.split('-')[-1]\n",
    "        letra = letra.strip()\n",
    "        letra = letra.lower()\n",
    "        letra_num = ord(letra)-96\n",
    "        result.append(letra_num)\n",
    "    return pd.Series(result)"
   ]
  },
  {
   "cell_type": "code",
   "execution_count": 21,
   "id": "bab1608e-8076-444e-b5dc-f33759fda29b",
   "metadata": {},
   "outputs": [],
   "source": [
    "metas = read_data('Sheet1', file = 'acoes_com_marcos_indicandoalteracao.xlsx')\n",
    "metas = metas[metas['alterada consulta']=='x'].copy()\n",
    "metas = metas.sort_values(by='Nº Meta', key = sort_meta).reset_index(drop=True)\n",
    "metas = metas['Nº Meta'].unique()\n",
    "\n",
    "for meta in metas:\n",
    "    \n",
    "    df_acoes = open_sheet('acoes', meta, file = 'acoes_com_marcos_indicandoalteracao.xlsx')\n",
    "    df_acoes = df_acoes[df_acoes['alterada consulta']=='x'].copy()\n",
    "    df_acoes = df_acoes.sort_values(by='Letra da Ação', key=sort_acao).reset_index(drop=True)\n",
    "    df_pdm = open_sheet('pdm', meta, file = 'producao.xlsx')\n",
    "    df_ppa = open_sheet('ppa', meta, file = 'producao.xlsx')\n",
    "    df_indicadores = open_sheet('indicadores', meta, file = 'producao.xlsx')\n",
    "    \n",
    "    \n",
    "    header(doc, df_acoes.iloc[0])\n",
    "    vinculacao_pdm(doc, df_pdm)\n",
    "    vinculacao_ppa(doc, df_ppa)\n",
    "    indicadores_priorizados(doc, df_indicadores)\n",
    "    acoes(doc, df_acoes)\n",
    "    doc.add_page_break()"
   ]
  },
  {
   "cell_type": "code",
   "execution_count": 22,
   "id": "5e78e9a9-1dc2-40af-a262-b6059cd14046",
   "metadata": {},
   "outputs": [],
   "source": [
    "file_name = 'relatorio_consulta_publica_final.docx'\n",
    "if os.path.exists(file_name):\n",
    "    os.remove(file_name)\n",
    "assert not os.path.exists(file_name)"
   ]
  },
  {
   "cell_type": "code",
   "execution_count": 23,
   "id": "00d533ea-a8dd-42d1-bac5-7afec813afa7",
   "metadata": {},
   "outputs": [],
   "source": [
    "doc.save(file_name)"
   ]
  },
  {
   "cell_type": "code",
   "execution_count": null,
   "id": "93948e2b-9d65-4bd6-8471-65c9bdad863f",
   "metadata": {},
   "outputs": [],
   "source": []
  }
 ],
 "metadata": {
  "kernelspec": {
   "display_name": "Python 3",
   "language": "python",
   "name": "python3"
  },
  "language_info": {
   "codemirror_mode": {
    "name": "ipython",
    "version": 3
   },
   "file_extension": ".py",
   "mimetype": "text/x-python",
   "name": "python",
   "nbconvert_exporter": "python",
   "pygments_lexer": "ipython3",
   "version": "3.8.8"
  }
 },
 "nbformat": 4,
 "nbformat_minor": 5
}
