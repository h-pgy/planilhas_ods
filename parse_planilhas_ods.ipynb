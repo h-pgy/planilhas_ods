{
 "cells": [
  {
   "cell_type": "code",
   "execution_count": 1,
   "id": "19ca1dba-c51a-4956-bf46-aa9500993e1e",
   "metadata": {},
   "outputs": [],
   "source": [
    "from openpyxl import load_workbook\n",
    "import pandas as pd\n",
    "import os\n",
    "import pickle"
   ]
  },
  {
   "cell_type": "code",
   "execution_count": 2,
   "id": "60a598f4-dd2a-4883-854c-8c83015a4695",
   "metadata": {},
   "outputs": [],
   "source": [
    "def find_anchor(sheet, col, text, start_row=1):\n",
    "    \n",
    "    for i in range(start_row, 1048576):\n",
    "        cell = f'{col}{i}'\n",
    "        if sheet[cell].value == text:\n",
    "            return i\n",
    "    else:\n",
    "        raise ValueError(f'Texto {text} não encontrado na coluna {col}')"
   ]
  },
  {
   "cell_type": "code",
   "execution_count": 3,
   "id": "556b90d7-1a68-43b6-b1dc-568c8fc316c9",
   "metadata": {},
   "outputs": [],
   "source": [
    "def header(sheet):\n",
    "    \n",
    "    return {\n",
    "        'numero_meta' : sheet['A4'].value,\n",
    "        'desc_meta' : sheet['C4'].value\n",
    "    }"
   ]
  },
  {
   "cell_type": "code",
   "execution_count": 4,
   "id": "3f071eb5-a788-49a6-a571-f5aebe2b7ea5",
   "metadata": {},
   "outputs": [],
   "source": [
    "def vinculacao_pdm(sheet):\n",
    "    \n",
    "    inicio = find_anchor(sheet, 'A', 'Vinculação com o Programa de Metas 2021-2024')\n",
    "    fim = find_anchor(sheet, 'A', 'Vinculação com o Plano Plurianual 2022-2025')\n",
    "    \n",
    "    inicio = inicio+1 #nao quero pegar o header\n",
    "    fim = fim-1 #tem uma linha vazia\n",
    "    \n",
    "    dados = []\n",
    "    \n",
    "    for i in range(inicio, fim):\n",
    "        \n",
    "        dados.append({\n",
    "            'meta_pdm' : sheet[f'A{i}'].value, #algumas abas estão com datas aqui!\n",
    "            'desc_meta_pdm' : sheet[f'C{i}'].value\n",
    "        })\n",
    "    \n",
    "    return dados"
   ]
  },
  {
   "cell_type": "code",
   "execution_count": 5,
   "id": "8f01427b-bf30-4726-b06c-8f8beae64b27",
   "metadata": {},
   "outputs": [],
   "source": [
    "def vinculacao_ppa(sheet):\n",
    "    \n",
    "    inicio = find_anchor(sheet, 'A', 'Vinculação com o Plano Plurianual 2022-2025')\n",
    "    fim = find_anchor(sheet, 'A', 'Indicadores da Agenda Municipal 2030 priorizados')\n",
    "    \n",
    "    inicio = inicio+1 #nao quero pegar o header\n",
    "    fim = fim-1 #tem uma linha vazia\n",
    "    \n",
    "    dados = []\n",
    "    \n",
    "    for i in range(inicio, fim):\n",
    "        \n",
    "        dados.append({\n",
    "            'vinculo_ppa' : sheet[f'A{i}'].value,\n",
    "            'descricao_vinculo_ppa' : sheet[f'C{i}'].value\n",
    "        })\n",
    "    \n",
    "    return dados"
   ]
  },
  {
   "cell_type": "code",
   "execution_count": 6,
   "id": "b4ad826a-a851-4e93-b30f-3067b2a196cb",
   "metadata": {},
   "outputs": [],
   "source": [
    "def indicadores_priorizados(sheet):\n",
    "    \n",
    "    inicio = find_anchor(sheet, 'A', 'Indicadores da Agenda Municipal 2030 priorizados')\n",
    "    fim = find_anchor(sheet, 'A', 'Ação')\n",
    "    \n",
    "    inicio = inicio+3 #nao quero pegar o header\n",
    "    fim = fim-1 #tem uma linha vazia\n",
    "    \n",
    "    dados = []\n",
    "    \n",
    "    for i in range(inicio, fim):\n",
    "        \n",
    "        dados.append({\n",
    "            'numero_indicador' : sheet[f'A{i}'].value,\n",
    "            'redacao' : sheet[f'C{i}'].value,\n",
    "            'meta_2030' : sheet[f'D{i}'].value,\n",
    "            'previsao_21_24' : sheet[f'E{i}'].value\n",
    "        })\n",
    "    \n",
    "    return dados"
   ]
  },
  {
   "cell_type": "code",
   "execution_count": 7,
   "id": "ce1f029b-b75f-46ce-b6a4-95e65681d691",
   "metadata": {},
   "outputs": [],
   "source": [
    "def acoes(sheet):\n",
    "    \n",
    "    inicio = find_anchor(sheet, 'A', 'Ação')\n",
    "    \n",
    "    inicio = inicio+1 #nao quero pegar o header\n",
    "    \n",
    "    dados = []\n",
    "    \n",
    "    i = inicio\n",
    "    while True:\n",
    "        \n",
    "        parsed = {\n",
    "            'letra_acao' : sheet[f'A{i}'].value,\n",
    "            'desc_acao' : sheet[f'B{i}'].value,\n",
    "            'orgao_responsavel' : sheet[f'E{i}'].value,\n",
    "            'marco_de_atingimento' : sheet[f'G{i}'].value\n",
    "        }\n",
    "        \n",
    "        if parsed['letra_acao'] is None:\n",
    "            break\n",
    "        \n",
    "        dados.append(parsed)\n",
    "        i+=1\n",
    "    \n",
    "    return dados"
   ]
  },
  {
   "cell_type": "code",
   "execution_count": 8,
   "id": "359b0095-fc1e-48ba-aea1-7c4ab9ed213f",
   "metadata": {},
   "outputs": [],
   "source": [
    "def get_sheet_data(sheet):\n",
    "    \n",
    "    dados = dict(\n",
    "    \n",
    "        header = header(sheet),\n",
    "        vinculacao_pdm = vinculacao_pdm(sheet),\n",
    "        vinculacao_ppa = vinculacao_ppa(sheet),\n",
    "        indicadores_priorizados = indicadores_priorizados(sheet),\n",
    "        acoes = acoes(sheet)\n",
    "        \n",
    "    )\n",
    "    \n",
    "    return dados"
   ]
  },
  {
   "cell_type": "code",
   "execution_count": 9,
   "id": "2c642c62-5e37-45ba-8fb0-a7f43d55e65e",
   "metadata": {},
   "outputs": [],
   "source": [
    "def get_file_data(file_path):\n",
    "    \n",
    "    wb = load_workbook(file_path)\n",
    "    \n",
    "    data = []\n",
    "    \n",
    "    for sheetname in wb.sheetnames:\n",
    "        try:\n",
    "            sheet = wb[sheetname]\n",
    "            data.append(get_sheet_data(sheet))\n",
    "        except ValueError as e:\n",
    "            print(f'Erro na sheet {sheetname}')\n",
    "            raise(e)\n",
    "    \n",
    "    return data"
   ]
  },
  {
   "cell_type": "code",
   "execution_count": 10,
   "id": "e0ab09fa-fee7-4870-954b-28e77acfdff3",
   "metadata": {},
   "outputs": [],
   "source": [
    "path_dados = 'original_data/BlocoI/'\n",
    "files = [os.path.join(path_dados, file) for file in os.listdir(path_dados)\n",
    "        if file.endswith('.xlsx')]"
   ]
  },
  {
   "cell_type": "code",
   "execution_count": 11,
   "id": "2800ba86-27ce-4171-9088-c8eeea5501a5",
   "metadata": {},
   "outputs": [],
   "source": [
    "all_data = []\n",
    "for file in files:\n",
    "    try:\n",
    "        all_data.append(get_file_data(file))\n",
    "    except ValueError as e:\n",
    "        print(file)\n",
    "        print(e)\n",
    "        print('_'*len(str(e)))"
   ]
  },
  {
   "cell_type": "code",
   "execution_count": 12,
   "id": "1b398628-e5b7-4fd3-90f1-ca95bb89c208",
   "metadata": {},
   "outputs": [],
   "source": [
    "with open('parsed_data.pi', 'wb') as f:\n",
    "    pickle.dump(all_data, f)"
   ]
  },
  {
   "cell_type": "code",
   "execution_count": null,
   "id": "c61a82ee-0f62-4b4b-9603-3a8ebce259a0",
   "metadata": {},
   "outputs": [],
   "source": []
  }
 ],
 "metadata": {
  "kernelspec": {
   "display_name": "Python 3",
   "language": "python",
   "name": "python3"
  },
  "language_info": {
   "codemirror_mode": {
    "name": "ipython",
    "version": 3
   },
   "file_extension": ".py",
   "mimetype": "text/x-python",
   "name": "python",
   "nbconvert_exporter": "python",
   "pygments_lexer": "ipython3",
   "version": "3.8.8"
  }
 },
 "nbformat": 4,
 "nbformat_minor": 5
}
