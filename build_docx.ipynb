{
 "cells": [
  {
   "cell_type": "code",
   "execution_count": 1,
   "id": "46464198-6d4a-428b-b4ba-d7e091e39842",
   "metadata": {},
   "outputs": [],
   "source": [
    "from docx import Document\n",
    "from docx.oxml.ns import nsdecls\n",
    "from docx.oxml import parse_xml\n",
    "from docx.shared import RGBColor\n",
    "from docx.shared import Cm\n",
    "from docx.enum.table import WD_ROW_HEIGHT_RULE\n",
    "import pickle"
   ]
  },
  {
   "cell_type": "code",
   "execution_count": 2,
   "id": "648f5c8e-0c39-4f7b-814f-03e08b3bc08d",
   "metadata": {},
   "outputs": [],
   "source": [
    "def read_data(file = 'parsed_data_2.pi'):\n",
    "    \n",
    "    with open(file, 'rb') as f:\n",
    "        return pickle.load(f)"
   ]
  },
  {
   "cell_type": "code",
   "execution_count": 3,
   "id": "f0f9ce46-adb2-46c1-ae1e-f18c19274c66",
   "metadata": {},
   "outputs": [],
   "source": [
    "def orange_cell(cell):\n",
    "    \n",
    "    # Set a cell background (shading) color to RGB D9D9D9.\n",
    "    shading_elm = parse_xml(r'<w:shd {} w:fill=\"#FF7F50\"/>'.format(nsdecls('w')))\n",
    "    cell._tc.get_or_add_tcPr().append(shading_elm)"
   ]
  },
  {
   "cell_type": "code",
   "execution_count": 4,
   "id": "5a43c110-d599-418a-8d7f-b06553902550",
   "metadata": {},
   "outputs": [],
   "source": [
    "def write_white(cell, text):\n",
    "    \n",
    "    if text is None:\n",
    "        text = ''\n",
    "    if type(text) is not str:\n",
    "        text = str(text)\n",
    "    \n",
    "    text = cell.paragraphs[0].add_run(text)\n",
    "    white = RGBColor(255,255,255)\n",
    "    text.font.color.rgb = white"
   ]
  },
  {
   "cell_type": "code",
   "execution_count": 5,
   "id": "092d10cb-de39-4927-a7cf-669690e11cfe",
   "metadata": {},
   "outputs": [],
   "source": [
    "def white_on_orange(cell, text):\n",
    "    \n",
    "    orange_cell(cell)\n",
    "    write_white(cell, text)"
   ]
  },
  {
   "cell_type": "code",
   "execution_count": 6,
   "id": "85a15c1a-c5f6-4d5c-aa3a-c03c380651e8",
   "metadata": {},
   "outputs": [],
   "source": [
    "def white_row(table, row_num, max_cell):\n",
    "    \n",
    "    merge_cells(table, row_num, max_cell)\n",
    "    row = table.rows[row_num]\n",
    "    row.height_rule = WD_ROW_HEIGHT_RULE.EXACTLY\n",
    "    row.height = Cm(.3)"
   ]
  },
  {
   "cell_type": "code",
   "execution_count": 7,
   "id": "dddccf1c-b0c7-4ca1-84b9-301bd91c1534",
   "metadata": {},
   "outputs": [],
   "source": [
    "def add_table(doc, num_rows, num_cols):\n",
    "    \n",
    "    table = doc.add_table(num_rows,num_cols)\n",
    "    table.style = 'Table Grid'\n",
    "    \n",
    "    return table"
   ]
  },
  {
   "cell_type": "code",
   "execution_count": 8,
   "id": "d0633586-f923-417a-9c31-2350bf38ed21",
   "metadata": {},
   "outputs": [],
   "source": [
    "def merge_cells(table, row, max_cell, start_cell=0):\n",
    "    \n",
    "    merge_anchor = table.cell(row, start_cell)\n",
    "    for i in range(start_cell+1, max_cell+1):\n",
    "        merge_anchor.merge(table.cell(row, i))\n",
    "    \n",
    "    return merge_anchor"
   ]
  },
  {
   "cell_type": "code",
   "execution_count": 9,
   "id": "e5e11e58-2731-4083-903d-092e3d574941",
   "metadata": {},
   "outputs": [],
   "source": [
    "def write_cell(table, row, col, text):\n",
    "    \n",
    "    if text is None:\n",
    "        text = ''\n",
    "    \n",
    "    if type(text) is not str:\n",
    "        text = str(text)\n",
    "    \n",
    "    table.cell(row, col).text = text"
   ]
  },
  {
   "cell_type": "code",
   "execution_count": 10,
   "id": "373bfca6-95ea-4af5-897d-a160f888845c",
   "metadata": {},
   "outputs": [],
   "source": [
    "def header(doc, dados):\n",
    "    \n",
    "    header = dados['header']\n",
    "    \n",
    "    table = add_table(doc, 2,2)\n",
    "    white_on_orange(table.cell(0,0), header['numero_meta'])\n",
    "    write_cell(table, 0, 1, header['desc_meta'])\n",
    "    white_row(table, 1, 1)"
   ]
  },
  {
   "cell_type": "code",
   "execution_count": 11,
   "id": "d5fba3f2-bf2b-4d56-ab97-4e13f80505ad",
   "metadata": {},
   "outputs": [],
   "source": [
    "def vinculacao_pdm(doc, dados):\n",
    "    \n",
    "    vinculos = dados['vinculacao_pdm']\n",
    "    #uma para cada vinculo, uma para header e outra para espaço\n",
    "    num_rows = len(vinculos)+2\n",
    "    table = add_table(doc, num_rows, 2)\n",
    "    \n",
    "    header = merge_cells(table, 0, 1)\n",
    "    white_on_orange(header, 'Vinculação com o Programa de Metas 2021-2024')\n",
    "    \n",
    "    for i, row in enumerate(vinculos):\n",
    "        \n",
    "        write_cell(table, i+1,0, row['meta_pdm'])\n",
    "        write_cell(table, i+1,1, row['desc_meta_pdm'])\n",
    "\n",
    "    white_row(table, num_rows-1, 1)"
   ]
  },
  {
   "cell_type": "code",
   "execution_count": 12,
   "id": "473c3d23-3d09-4785-a6e1-39f4cd15f8e0",
   "metadata": {},
   "outputs": [],
   "source": [
    "def vinculacao_ppa(doc, dados):\n",
    "    \n",
    "    vinculos = dados['vinculacao_ppa']\n",
    "    #uma para cada vinculo, uma para header e outra para espaço\n",
    "    num_rows = len(vinculos)+2\n",
    "    table = add_table(doc, num_rows, 2)\n",
    "    \n",
    "    header = merge_cells(table, 0, 1)\n",
    "    white_on_orange(header, 'Vinculação com o Plano Plurianual 2022-2025')\n",
    "    \n",
    "    for i, row in enumerate(vinculos):\n",
    "        \n",
    "        write_cell(table, i+1,0, row['vinculo_ppa'])\n",
    "        write_cell(table, i+1,1, row['descricao_vinculo_ppa'])\n",
    "    \n",
    "    white_row(table, num_rows-1, 1)"
   ]
  },
  {
   "cell_type": "code",
   "execution_count": 13,
   "id": "fa75306c-0af5-464f-8afc-44719d9c8785",
   "metadata": {},
   "outputs": [],
   "source": [
    "def indicadores_priorizados(doc, dados):\n",
    "    \n",
    "    itens = dados['indicadores_priorizados']\n",
    "    #uma para cada item, duas para header e outra para espaço\n",
    "    num_rows = len(itens)+3\n",
    "    table = add_table(doc, num_rows, 4)\n",
    "    \n",
    "    header = merge_cells(table, 0, 3)\n",
    "    white_on_orange(header, 'Indicadores da Agenda Municipal 2030 priorizados')\n",
    "    \n",
    "    white_on_orange(table.cell(1,0), 'Número')\n",
    "    white_on_orange(table.cell(1,1), 'Redação')\n",
    "    white_on_orange(table.cell(1,2), 'Meta 2030')\n",
    "    white_on_orange(table.cell(1,3), 'Previsão 2021-2024')\n",
    "\n",
    "    \n",
    "    for i, row in enumerate(itens):\n",
    "        \n",
    "        row_num = i+2\n",
    "        write_cell(table, row_num,0, row['numero_indicador'])\n",
    "        write_cell(table, row_num,1, row['redacao'])\n",
    "        write_cell(table, row_num,2, row['meta_2030'])\n",
    "        write_cell(table, row_num,3, row['previsao_21_24'])\n",
    "\n",
    "    white_row(table, num_rows-1, 3)"
   ]
  },
  {
   "cell_type": "code",
   "execution_count": 14,
   "id": "cb9ff108-fce3-4967-aaba-041fc7380ecd",
   "metadata": {},
   "outputs": [],
   "source": [
    "def acoes(doc, dados):\n",
    "    \n",
    "    itens = dados['acoes']\n",
    "    #uma para cada item, duas para header\n",
    "    num_rows = len(itens)+1\n",
    "    table = add_table(doc, num_rows, 4)\n",
    "    \n",
    "    header = merge_cells(table, 0, 1)\n",
    "    white_on_orange(header, 'Ação')\n",
    "    white_on_orange(table.cell(0,2), 'Orgão Responsável')\n",
    "    white_on_orange(table.cell(0,3), 'Marco de atingimento')\n",
    "    \n",
    "    for i, row in enumerate(itens):\n",
    "        \n",
    "        row_num = i+1\n",
    "        \n",
    "        write_cell(table, row_num,0, row['letra_acao'])\n",
    "        write_cell(table, row_num,1, row['desc_acao'])\n",
    "        write_cell(table, row_num,2, row['orgao_responsavel'])\n",
    "        write_cell(table, row_num,3, row['marco_de_atingimento'])\n"
   ]
  },
  {
   "cell_type": "code",
   "execution_count": 15,
   "id": "f36f521f-8bc3-47c5-8f57-17d26806f468",
   "metadata": {},
   "outputs": [],
   "source": [
    "def write_sheet(doc, sheet_data):\n",
    "    \n",
    "    header(doc, sheet_data)\n",
    "    vinculacao_pdm(doc, sheet_data)\n",
    "    vinculacao_ppa(doc, sheet_data)\n",
    "    indicadores_priorizados(doc, sheet_data)\n",
    "    acoes(doc, sheet_data)\n",
    "    \n",
    "    doc.add_page_break()"
   ]
  },
  {
   "cell_type": "code",
   "execution_count": 16,
   "id": "8ac6be68-2f11-45e1-a4d0-7273589f612a",
   "metadata": {},
   "outputs": [],
   "source": [
    "data = read_data()"
   ]
  },
  {
   "cell_type": "code",
   "execution_count": 17,
   "id": "5a553599-ec87-432c-bcbd-5ab78d4d9cc0",
   "metadata": {},
   "outputs": [],
   "source": [
    "dados = data[0][0]"
   ]
  },
  {
   "cell_type": "code",
   "execution_count": 18,
   "id": "fb6210ae-3ddf-46ef-b826-7d44eaa09f42",
   "metadata": {},
   "outputs": [],
   "source": [
    "doc = Document()"
   ]
  },
  {
   "cell_type": "code",
   "execution_count": 19,
   "id": "d47671e5-8757-4ada-a655-ed367952960f",
   "metadata": {},
   "outputs": [],
   "source": [
    "for planilha in data:\n",
    "    for sheet in planilha:\n",
    "        write_sheet(doc, sheet)"
   ]
  },
  {
   "cell_type": "code",
   "execution_count": 20,
   "id": "5e78e9a9-1dc2-40af-a262-b6059cd14046",
   "metadata": {},
   "outputs": [],
   "source": [
    "doc.save('word_ods_gabi_final.docx')"
   ]
  },
  {
   "cell_type": "code",
   "execution_count": 29,
   "id": "0edb3d00-7406-4367-8783-ce174e0e10f6",
   "metadata": {},
   "outputs": [],
   "source": [
    "with open('word_ods_gabi_final.docx', 'rb') as f:\n",
    "    texto = f.read()"
   ]
  },
  {
   "cell_type": "code",
   "execution_count": 39,
   "id": "ef7e0241-1517-43c8-926a-3f4d05ad5294",
   "metadata": {},
   "outputs": [],
   "source": [
    "from zipfile import ZipFile\n",
    "from io import BytesIO"
   ]
  },
  {
   "cell_type": "code",
   "execution_count": 41,
   "id": "9c26f7f0-0c3c-4d22-a8b6-70c495524c9c",
   "metadata": {},
   "outputs": [],
   "source": [
    "zipfile = ZipFile(BytesIO(texto))"
   ]
  },
  {
   "cell_type": "code",
   "execution_count": 45,
   "id": "dba75299-c4cd-4d22-89f4-33c134747c18",
   "metadata": {},
   "outputs": [],
   "source": [
    "zipfile.extractall()"
   ]
  },
  {
   "cell_type": "code",
   "execution_count": null,
   "id": "29d32861-7f6c-4beb-a1c4-d9a9b55c4458",
   "metadata": {},
   "outputs": [],
   "source": []
  }
 ],
 "metadata": {
  "kernelspec": {
   "display_name": "Python 3",
   "language": "python",
   "name": "python3"
  },
  "language_info": {
   "codemirror_mode": {
    "name": "ipython",
    "version": 3
   },
   "file_extension": ".py",
   "mimetype": "text/x-python",
   "name": "python",
   "nbconvert_exporter": "python",
   "pygments_lexer": "ipython3",
   "version": "3.8.8"
  }
 },
 "nbformat": 4,
 "nbformat_minor": 5
}
