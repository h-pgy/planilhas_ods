{
 "cells": [
  {
   "cell_type": "code",
   "execution_count": 1,
   "id": "d7f7b98b-7e78-4986-9a5d-45bbb5901ef4",
   "metadata": {},
   "outputs": [],
   "source": [
    "import pandas as pd\n",
    "from docx import Document\n",
    "import os\n",
    "from itertools import permutations\n",
    "import re"
   ]
  },
  {
   "cell_type": "code",
   "execution_count": 2,
   "id": "bfda1667-ee93-4bd4-ad71-fd9d797bae1a",
   "metadata": {},
   "outputs": [],
   "source": [
    "def abrir_docx(fname, word_dir = 'original_data/word/'):\n",
    "    \n",
    "    file = os.path.join(word_dir, fname)\n",
    "    \n",
    "    return Document(file)"
   ]
  },
  {
   "cell_type": "code",
   "execution_count": 3,
   "id": "073ddead-2e67-4762-9f9a-958735d853a0",
   "metadata": {},
   "outputs": [],
   "source": [
    "def cell_text(table, i, j):\n",
    "    \n",
    "    return table.cell(i, j).text"
   ]
  },
  {
   "cell_type": "code",
   "execution_count": 4,
   "id": "c39af5b1-4915-44d1-bea7-4019f8a394c5",
   "metadata": {},
   "outputs": [],
   "source": [
    "def pegar_valores(table, dict_dados):\n",
    "    \n",
    "    return {chave : cell_text(table, val[0], val[1]) for chave, val in dict_dados.items()}"
   ]
  },
  {
   "cell_type": "code",
   "execution_count": 5,
   "id": "ea1e4b8f-aed1-4663-aa4f-354307542da2",
   "metadata": {},
   "outputs": [],
   "source": [
    "def ancorar(table, texto, ini, fim = 100, col =0):\n",
    "        \n",
    "    for i in range(ini, fim):\n",
    "        if cell_text(table, i, col) == texto:\n",
    "            return i\n",
    "    "
   ]
  },
  {
   "cell_type": "code",
   "execution_count": 6,
   "id": "d18811e9-ca41-4696-b51b-3418b03632f7",
   "metadata": {},
   "outputs": [],
   "source": [
    "def pegar_meta(table):\n",
    "    \n",
    "    dados = {\n",
    "        'meta_numero' : (0,0),\n",
    "        'desc_meta' : (0, 2)\n",
    "    }\n",
    "    \n",
    "    return pegar_valores(table, dados)"
   ]
  },
  {
   "cell_type": "code",
   "execution_count": 7,
   "id": "71e9921f-360b-4c1a-bedc-95a48a923fe6",
   "metadata": {},
   "outputs": [],
   "source": [
    "def pegar_pdm(table):\n",
    "    \n",
    "    ancora_ini = ancorar(table, 'Vinculação com o Programa de Metas 2021-2024', 0) + 1\n",
    "    ancora_fim = ancorar(table,'Vinculação com o Plano Plurianual 2022-2025', 0) - 1\n",
    "    \n",
    "    dados = []\n",
    "    schema = {'meta_pdm_num' : None,\n",
    "             'meta_pdm_desc' : None}\n",
    "\n",
    "    for i in range(ancora_ini, ancora_fim):\n",
    "        \n",
    "        schema['meta_pdm_num'] = (i, 0)\n",
    "        schema['meta_pdm_desc'] = (i, 2)\n",
    "        \n",
    "        dados.append(pegar_valores(table, schema))\n",
    "    \n",
    "    return dados"
   ]
  },
  {
   "cell_type": "code",
   "execution_count": 8,
   "id": "c02be844-6dee-4891-bcce-e191b943f6b5",
   "metadata": {},
   "outputs": [],
   "source": [
    "def pegar_ppa_raw(table):\n",
    "    \n",
    "    ancora_ini = ancorar(table, 'Vinculação com o Plano Plurianual 2022-2025', 0) + 1\n",
    "    ancora_fim = ancorar(table,'Indicadores da Agenda Municipal 2030 priorizados', 0) - 1\n",
    "    \n",
    "    dados = []\n",
    "    schema = {'key' : None,\n",
    "             'val' : None}\n",
    "    n = 0\n",
    "    for i in range(ancora_ini, ancora_fim):\n",
    "        \n",
    "        schema['key'] = (i, 0)\n",
    "        schema['val'] = (i, 2)\n",
    "        \n",
    "        buscado = pegar_valores(table, schema)\n",
    "        dados.append(buscado)\n",
    "    \n",
    "    return dados"
   ]
  },
  {
   "cell_type": "code",
   "execution_count": 9,
   "id": "fc42a078-98ba-44b3-a13e-c298d4ca8bee",
   "metadata": {},
   "outputs": [],
   "source": [
    "def parsear_ppa(dados_ppa_raw):\n",
    "    \n",
    "    dados = []\n",
    "    parseado = {}\n",
    "    for item in dados_ppa_raw:\n",
    "        if 'objetivo est' not in item['key'].lower():\n",
    "            parseado['programa_num'] = item['key']\n",
    "            parseado['programa_desc'] = item['val']\n",
    "        else:\n",
    "            parseado['objetivo_estrategico'] = item['val']\n",
    "            dados.append(parseado)\n",
    "            parseado = {}\n",
    "    return dados"
   ]
  },
  {
   "cell_type": "code",
   "execution_count": 10,
   "id": "7c4c83f1-ff68-4e6f-83ba-97711323725f",
   "metadata": {},
   "outputs": [],
   "source": [
    "def pegar_ppa(table):\n",
    "    \n",
    "    dados_ppa_raw = pegar_ppa_raw(table)\n",
    "    parsed = parsear_ppa(dados_ppa_raw)\n",
    "    \n",
    "    return parsed"
   ]
  },
  {
   "cell_type": "code",
   "execution_count": 11,
   "id": "1056f3e8-f74f-4f46-acf1-6a19988c72f1",
   "metadata": {},
   "outputs": [],
   "source": [
    "def pegar_indicadores_agenda(table):\n",
    "    \n",
    "    ancora_ini = ancorar(table, 'Número', 0) + 1\n",
    "    ancora_fim = ancorar(table,'Ação', 0) - 1\n",
    "    \n",
    "    dados = []\n",
    "    schema = {'numero' : None,\n",
    "             'redacao' : None,\n",
    "             'meta_2030' : None,\n",
    "             'previsao_2024' : None}\n",
    "    n = 0\n",
    "    for i in range(ancora_ini, ancora_fim):\n",
    "        \n",
    "        schema['numero'] = (i, 0)\n",
    "        schema['redacao'] = (i, 1)\n",
    "        schema['meta_2030'] = (i, 2)\n",
    "        schema['previsao_2024'] = (i, 3)\n",
    "        \n",
    "        buscado = pegar_valores(table, schema)\n",
    "        dados.append(buscado)\n",
    "    \n",
    "    return dados"
   ]
  },
  {
   "cell_type": "code",
   "execution_count": 12,
   "id": "15a180e7-c0fd-4f65-a8cc-92d0d1c91643",
   "metadata": {},
   "outputs": [],
   "source": [
    "def pegar_acoes(table):\n",
    "    \n",
    "    ancora_ini = ancorar(table, 'Ação', 0) + 1\n",
    "    ancora_fim = len(table.rows)\n",
    "    \n",
    "    dados = []\n",
    "    schema = {'letra_acao' : None,\n",
    "             'desc_acao' : None,\n",
    "             'orgao_resp' : None,\n",
    "             'marco' : None}\n",
    "    n = 0\n",
    "    for i in range(ancora_ini, ancora_fim):\n",
    "        \n",
    "        schema['letra_acao'] = (i, 0)\n",
    "        schema['desc_acao'] = (i, 1)\n",
    "        schema['orgao_resp'] = (i, 2)\n",
    "        schema['marco'] = (i, 3)\n",
    "        \n",
    "        buscado = pegar_valores(table, schema)\n",
    "        dados.append(buscado)\n",
    "    \n",
    "    return dados"
   ]
  },
  {
   "cell_type": "code",
   "execution_count": 13,
   "id": "dcfba9e5-fa77-4145-a49c-16969bc0e0fb",
   "metadata": {},
   "outputs": [],
   "source": [
    "def generate_table(doc, func):\n",
    "    \n",
    "    dados = []\n",
    "    for table in doc.tables[1:]:\n",
    "        meta = pegar_meta(table)\n",
    "        dados_func = func(table)\n",
    "        if type(dados_func) is dict:\n",
    "            meta.update(dados_func)\n",
    "            dados.append(meta)\n",
    "        else:\n",
    "            for item in dados_func:\n",
    "                item.update(meta)\n",
    "                dados.append(item)\n",
    "        \n",
    "    return pd.DataFrame(dados)"
   ]
  },
  {
   "cell_type": "code",
   "execution_count": 14,
   "id": "71f67515-a551-46e7-abfa-969308b1a815",
   "metadata": {},
   "outputs": [],
   "source": [
    "doc = abrir_docx('FINAL Fichas Plano de Ação ODS.docx')"
   ]
  },
  {
   "cell_type": "code",
   "execution_count": 15,
   "id": "b80e1652-b9f4-4f0f-9c7f-2e263b22f8fe",
   "metadata": {},
   "outputs": [],
   "source": [
    "pdm = generate_table(doc, pegar_pdm)\n"
   ]
  },
  {
   "cell_type": "code",
   "execution_count": 16,
   "id": "aba2355f-ff3a-4a6c-80e1-29a1fa3b33d4",
   "metadata": {},
   "outputs": [
    {
     "data": {
      "text/html": [
       "<div>\n",
       "<style scoped>\n",
       "    .dataframe tbody tr th:only-of-type {\n",
       "        vertical-align: middle;\n",
       "    }\n",
       "\n",
       "    .dataframe tbody tr th {\n",
       "        vertical-align: top;\n",
       "    }\n",
       "\n",
       "    .dataframe thead th {\n",
       "        text-align: right;\n",
       "    }\n",
       "</style>\n",
       "<table border=\"1\" class=\"dataframe\">\n",
       "  <thead>\n",
       "    <tr style=\"text-align: right;\">\n",
       "      <th></th>\n",
       "      <th>meta_pdm_num</th>\n",
       "      <th>meta_pdm_desc</th>\n",
       "      <th>meta_numero</th>\n",
       "      <th>desc_meta</th>\n",
       "    </tr>\n",
       "  </thead>\n",
       "  <tbody>\n",
       "    <tr>\n",
       "      <th>2</th>\n",
       "      <td>Meta 24</td>\n",
       "      <td>Atingir o resultado de 5,2 no IDEP para os ano...</td>\n",
       "      <td>4.1</td>\n",
       "      <td>Até 2030, garantir que todas as meninas e meni...</td>\n",
       "    </tr>\n",
       "    <tr>\n",
       "      <th>36</th>\n",
       "      <td>Meta 57</td>\n",
       "      <td>Realizar 600.000 atendimentos ao trabalhador, ...</td>\n",
       "      <td>8.6</td>\n",
       "      <td>Até 2030, reduzir substancialmente a proporção...</td>\n",
       "    </tr>\n",
       "    <tr>\n",
       "      <th>75</th>\n",
       "      <td>Sem vinculação</td>\n",
       "      <td></td>\n",
       "      <td>8.7</td>\n",
       "      <td>Tomar medidas imediatas e eficazes para erradi...</td>\n",
       "    </tr>\n",
       "  </tbody>\n",
       "</table>\n",
       "</div>"
      ],
      "text/plain": [
       "      meta_pdm_num                                      meta_pdm_desc  \\\n",
       "2          Meta 24  Atingir o resultado de 5,2 no IDEP para os ano...   \n",
       "36         Meta 57  Realizar 600.000 atendimentos ao trabalhador, ...   \n",
       "75  Sem vinculação                                                      \n",
       "\n",
       "   meta_numero                                          desc_meta  \n",
       "2          4.1  Até 2030, garantir que todas as meninas e meni...  \n",
       "36         8.6  Até 2030, reduzir substancialmente a proporção...  \n",
       "75         8.7  Tomar medidas imediatas e eficazes para erradi...  "
      ]
     },
     "execution_count": 16,
     "metadata": {},
     "output_type": "execute_result"
    }
   ],
   "source": [
    "pdm.sample(3)"
   ]
  },
  {
   "cell_type": "code",
   "execution_count": 17,
   "id": "ff3e8f04-a464-4719-95ce-9b34b5adcfd9",
   "metadata": {},
   "outputs": [],
   "source": [
    "pdm.fillna('sem vinculação', inplace=True)"
   ]
  },
  {
   "cell_type": "code",
   "execution_count": 18,
   "id": "68891d7b-75c6-472a-bc1b-b974c6267e11",
   "metadata": {},
   "outputs": [],
   "source": [
    "ppa = generate_table(doc, pegar_ppa)"
   ]
  },
  {
   "cell_type": "code",
   "execution_count": 19,
   "id": "45c305e8-a15e-4885-b915-2a343b91c954",
   "metadata": {},
   "outputs": [
    {
     "data": {
      "text/html": [
       "<div>\n",
       "<style scoped>\n",
       "    .dataframe tbody tr th:only-of-type {\n",
       "        vertical-align: middle;\n",
       "    }\n",
       "\n",
       "    .dataframe tbody tr th {\n",
       "        vertical-align: top;\n",
       "    }\n",
       "\n",
       "    .dataframe thead th {\n",
       "        text-align: right;\n",
       "    }\n",
       "</style>\n",
       "<table border=\"1\" class=\"dataframe\">\n",
       "  <thead>\n",
       "    <tr style=\"text-align: right;\">\n",
       "      <th></th>\n",
       "      <th>programa_num</th>\n",
       "      <th>programa_desc</th>\n",
       "      <th>objetivo_estrategico</th>\n",
       "      <th>meta_numero</th>\n",
       "      <th>desc_meta</th>\n",
       "    </tr>\n",
       "  </thead>\n",
       "  <tbody>\n",
       "    <tr>\n",
       "      <th>18</th>\n",
       "      <td>3015</td>\n",
       "      <td>PROMOÇÃO DA CIDADE COMO CENTRO DE EVENTOS E RE...</td>\n",
       "      <td>Promover a cooperação internacional e posicion...</td>\n",
       "      <td>12.a</td>\n",
       "      <td>Formalizar parcerias nacionais e internacionai...</td>\n",
       "    </tr>\n",
       "    <tr>\n",
       "      <th>122</th>\n",
       "      <td>3013</td>\n",
       "      <td>PROMOÇÃO DA SEGURANÇA URBANA, PREVENÇÃO E PROT...</td>\n",
       "      <td>Ampliar a capacidade de monitoramento em segur...</td>\n",
       "      <td>15.3</td>\n",
       "      <td>Até 2030, reduzir a degradação do solo no muni...</td>\n",
       "    </tr>\n",
       "    <tr>\n",
       "      <th>78</th>\n",
       "      <td>Programa 3023</td>\n",
       "      <td>PROTEÇÃO À POPULAÇÃO EM SITUAÇÃO DE VULNERABIL...</td>\n",
       "      <td>Reduzir a pobreza e ampliar o acesso a direito...</td>\n",
       "      <td>8.7</td>\n",
       "      <td>Tomar medidas imediatas e eficazes para erradi...</td>\n",
       "    </tr>\n",
       "  </tbody>\n",
       "</table>\n",
       "</div>"
      ],
      "text/plain": [
       "      programa_num                                      programa_desc  \\\n",
       "18            3015  PROMOÇÃO DA CIDADE COMO CENTRO DE EVENTOS E RE...   \n",
       "122           3013  PROMOÇÃO DA SEGURANÇA URBANA, PREVENÇÃO E PROT...   \n",
       "78   Programa 3023  PROTEÇÃO À POPULAÇÃO EM SITUAÇÃO DE VULNERABIL...   \n",
       "\n",
       "                                  objetivo_estrategico meta_numero  \\\n",
       "18   Promover a cooperação internacional e posicion...        12.a   \n",
       "122  Ampliar a capacidade de monitoramento em segur...        15.3   \n",
       "78   Reduzir a pobreza e ampliar o acesso a direito...         8.7   \n",
       "\n",
       "                                             desc_meta  \n",
       "18   Formalizar parcerias nacionais e internacionai...  \n",
       "122  Até 2030, reduzir a degradação do solo no muni...  \n",
       "78   Tomar medidas imediatas e eficazes para erradi...  "
      ]
     },
     "execution_count": 19,
     "metadata": {},
     "output_type": "execute_result"
    }
   ],
   "source": [
    "ppa.sample(3)"
   ]
  },
  {
   "cell_type": "code",
   "execution_count": 20,
   "id": "d2b9a14a-771d-4d9e-98e7-6f4b4e97886b",
   "metadata": {},
   "outputs": [],
   "source": [
    "indi = generate_table(doc, pegar_indicadores_agenda)"
   ]
  },
  {
   "cell_type": "code",
   "execution_count": 21,
   "id": "006d4c38-4519-4645-bef0-26b62dcac42d",
   "metadata": {},
   "outputs": [
    {
     "data": {
      "text/html": [
       "<div>\n",
       "<style scoped>\n",
       "    .dataframe tbody tr th:only-of-type {\n",
       "        vertical-align: middle;\n",
       "    }\n",
       "\n",
       "    .dataframe tbody tr th {\n",
       "        vertical-align: top;\n",
       "    }\n",
       "\n",
       "    .dataframe thead th {\n",
       "        text-align: right;\n",
       "    }\n",
       "</style>\n",
       "<table border=\"1\" class=\"dataframe\">\n",
       "  <thead>\n",
       "    <tr style=\"text-align: right;\">\n",
       "      <th></th>\n",
       "      <th>numero</th>\n",
       "      <th>redacao</th>\n",
       "      <th>meta_2030</th>\n",
       "      <th>previsao_2024</th>\n",
       "      <th>meta_numero</th>\n",
       "      <th>desc_meta</th>\n",
       "    </tr>\n",
       "  </thead>\n",
       "  <tbody>\n",
       "    <tr>\n",
       "      <th>201</th>\n",
       "      <td>15.5.1</td>\n",
       "      <td>Animais silvestres reabilitados para soltura n...</td>\n",
       "      <td>Monitorar</td>\n",
       "      <td>1000/ano</td>\n",
       "      <td>15.5</td>\n",
       "      <td>Proteger a fauna silvestre do município, por m...</td>\n",
       "    </tr>\n",
       "    <tr>\n",
       "      <th>186</th>\n",
       "      <td>Sem indicadores priorizados</td>\n",
       "      <td></td>\n",
       "      <td></td>\n",
       "      <td></td>\n",
       "      <td>13.3</td>\n",
       "      <td>Até 2030, promover e aprofundar as temáticas d...</td>\n",
       "    </tr>\n",
       "    <tr>\n",
       "      <th>9</th>\n",
       "      <td>sem indicadores priorizados</td>\n",
       "      <td></td>\n",
       "      <td></td>\n",
       "      <td></td>\n",
       "      <td>4.c</td>\n",
       "      <td>Até 2030, substancialmente aumentar o continge...</td>\n",
       "    </tr>\n",
       "  </tbody>\n",
       "</table>\n",
       "</div>"
      ],
      "text/plain": [
       "                          numero  \\\n",
       "201                       15.5.1   \n",
       "186  Sem indicadores priorizados   \n",
       "9    sem indicadores priorizados   \n",
       "\n",
       "                                               redacao  meta_2030  \\\n",
       "201  Animais silvestres reabilitados para soltura n...  Monitorar   \n",
       "186                                                                 \n",
       "9                                                                   \n",
       "\n",
       "    previsao_2024 meta_numero  \\\n",
       "201      1000/ano        15.5   \n",
       "186                      13.3   \n",
       "9                         4.c   \n",
       "\n",
       "                                             desc_meta  \n",
       "201  Proteger a fauna silvestre do município, por m...  \n",
       "186  Até 2030, promover e aprofundar as temáticas d...  \n",
       "9    Até 2030, substancialmente aumentar o continge...  "
      ]
     },
     "execution_count": 21,
     "metadata": {},
     "output_type": "execute_result"
    }
   ],
   "source": [
    "indi.sample(3)"
   ]
  },
  {
   "cell_type": "code",
   "execution_count": 22,
   "id": "770807f7-2590-467b-82d3-97048a386cb9",
   "metadata": {},
   "outputs": [],
   "source": [
    "indi.fillna('Sem indicadores priorizados', inplace=True)"
   ]
  },
  {
   "cell_type": "code",
   "execution_count": 23,
   "id": "72e7f34f-158d-4ad9-b7f4-fe9cd328cb09",
   "metadata": {},
   "outputs": [],
   "source": [
    "acoes = generate_table(doc, pegar_acoes)"
   ]
  },
  {
   "cell_type": "code",
   "execution_count": 24,
   "id": "84457f62-b6be-4c04-bea0-8e4047e0ee77",
   "metadata": {},
   "outputs": [
    {
     "data": {
      "text/html": [
       "<div>\n",
       "<style scoped>\n",
       "    .dataframe tbody tr th:only-of-type {\n",
       "        vertical-align: middle;\n",
       "    }\n",
       "\n",
       "    .dataframe tbody tr th {\n",
       "        vertical-align: top;\n",
       "    }\n",
       "\n",
       "    .dataframe thead th {\n",
       "        text-align: right;\n",
       "    }\n",
       "</style>\n",
       "<table border=\"1\" class=\"dataframe\">\n",
       "  <thead>\n",
       "    <tr style=\"text-align: right;\">\n",
       "      <th></th>\n",
       "      <th>letra_acao</th>\n",
       "      <th>desc_acao</th>\n",
       "      <th>orgao_resp</th>\n",
       "      <th>marco</th>\n",
       "      <th>meta_numero</th>\n",
       "      <th>desc_meta</th>\n",
       "    </tr>\n",
       "  </thead>\n",
       "  <tbody>\n",
       "    <tr>\n",
       "      <th>469</th>\n",
       "      <td>D</td>\n",
       "      <td>Apoiar tecnicamente as UVIS e as CRS para apri...</td>\n",
       "      <td>DVE/COVISA/SMS</td>\n",
       "      <td>Ações de rotina.</td>\n",
       "      <td>3.d</td>\n",
       "      <td>Reforçar a capacidade local para o alerta prec...</td>\n",
       "    </tr>\n",
       "    <tr>\n",
       "      <th>395</th>\n",
       "      <td>C</td>\n",
       "      <td>Ofertar capacitações nos laboratórios de fabri...</td>\n",
       "      <td>SMIT</td>\n",
       "      <td>Número de pessoas capacitadas</td>\n",
       "      <td>5.b</td>\n",
       "      <td>Garantir a igualdade de gênero no acesso a hab...</td>\n",
       "    </tr>\n",
       "    <tr>\n",
       "      <th>66</th>\n",
       "      <td>S</td>\n",
       "      <td>Realizar atividades formativas de debate e enf...</td>\n",
       "      <td>SVMA</td>\n",
       "      <td>Atividades formativas de debate e enfrentament...</td>\n",
       "      <td>4.7</td>\n",
       "      <td>Até 2030, ampliar o acesso a conhecimentos e h...</td>\n",
       "    </tr>\n",
       "  </tbody>\n",
       "</table>\n",
       "</div>"
      ],
      "text/plain": [
       "    letra_acao                                          desc_acao  \\\n",
       "469          D  Apoiar tecnicamente as UVIS e as CRS para apri...   \n",
       "395          C  Ofertar capacitações nos laboratórios de fabri...   \n",
       "66           S  Realizar atividades formativas de debate e enf...   \n",
       "\n",
       "         orgao_resp                                              marco  \\\n",
       "469  DVE/COVISA/SMS                                   Ações de rotina.   \n",
       "395            SMIT                      Número de pessoas capacitadas   \n",
       "66             SVMA  Atividades formativas de debate e enfrentament...   \n",
       "\n",
       "    meta_numero                                          desc_meta  \n",
       "469         3.d  Reforçar a capacidade local para o alerta prec...  \n",
       "395         5.b  Garantir a igualdade de gênero no acesso a hab...  \n",
       "66          4.7  Até 2030, ampliar o acesso a conhecimentos e h...  "
      ]
     },
     "execution_count": 24,
     "metadata": {},
     "output_type": "execute_result"
    }
   ],
   "source": [
    "acoes.sample(3)"
   ]
  },
  {
   "cell_type": "code",
   "execution_count": 25,
   "id": "edb8a5dd-5aaf-4e19-816d-acb1e7331d7e",
   "metadata": {},
   "outputs": [],
   "source": [
    "writer = pd.ExcelWriter('dados_extraidos_agenda_2030.xlsx', engine='xlsxwriter')"
   ]
  },
  {
   "cell_type": "code",
   "execution_count": 26,
   "id": "46d77c78-878e-4636-ab87-97a8785123fa",
   "metadata": {},
   "outputs": [],
   "source": [
    "pdm.to_excel(writer, sheet_name='vinculacao_pdm')\n",
    "ppa.to_excel(writer, sheet_name='vinculacao_ppa')\n",
    "indi.to_excel(writer, sheet_name='indicadores_priorizados')\n",
    "acoes.to_excel(writer, sheet_name='acoes')"
   ]
  },
  {
   "cell_type": "code",
   "execution_count": 27,
   "id": "3fdffcd4-4d47-4c50-b207-1d271db1fb4a",
   "metadata": {},
   "outputs": [],
   "source": [
    "writer.save()"
   ]
  },
  {
   "cell_type": "code",
   "execution_count": null,
   "id": "7a90c584-2dea-43c9-8e18-c89876d1e8f4",
   "metadata": {},
   "outputs": [],
   "source": []
  }
 ],
 "metadata": {
  "kernelspec": {
   "display_name": "Python 3",
   "language": "python",
   "name": "python3"
  },
  "language_info": {
   "codemirror_mode": {
    "name": "ipython",
    "version": 3
   },
   "file_extension": ".py",
   "mimetype": "text/x-python",
   "name": "python",
   "nbconvert_exporter": "python",
   "pygments_lexer": "ipython3",
   "version": "3.8.8"
  }
 },
 "nbformat": 4,
 "nbformat_minor": 5
}
